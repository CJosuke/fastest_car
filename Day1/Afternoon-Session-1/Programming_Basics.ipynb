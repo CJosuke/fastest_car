{
 "cells": [
  {
   "cell_type": "markdown",
   "id": "cffc6d98-43f6-422c-9070-3006140cd480",
   "metadata": {},
   "source": [
    "# 1. Variables and Data Types"
   ]
  },
  {
   "cell_type": "code",
   "execution_count": 1,
   "id": "4cc149f4-b076-4e40-9b67-b8a90572a5d1",
   "metadata": {},
   "outputs": [
    {
     "name": "stdout",
     "output_type": "stream",
     "text": [
      "My age is: 25\n",
      "<class 'int'>\n",
      "The temperature is: 98.6\n",
      "<class 'float'>\n",
      "My name is: John Doe\n",
      "<class 'str'>\n",
      "Am I a student? True\n",
      "<class 'bool'>\n",
      "My favorite fruits are: ['apple', 'banana', 'orange']\n",
      "<class 'list'>\n",
      "Person details: {'name': 'Alice', 'age': 30, 'city': 'New York'}\n",
      "<class 'dict'>\n",
      "Coordinates: (40.7128, -74.006)\n",
      "<class 'tuple'>\n"
     ]
    }
   ],
   "source": [
    "# Integer variable\n",
    "age = 25\n",
    "print(\"My age is:\", age)\n",
    "print(type(age))\n",
    "\n",
    "# Float (or numeric/real number) variable\n",
    "temperature = 98.6\n",
    "print(\"The temperature is:\", temperature)\n",
    "print(type(temperature))\n",
    "\n",
    "# String (or text) variable\n",
    "name = \"John Doe\"\n",
    "print(\"My name is:\", name)\n",
    "print(type(name))\n",
    "\n",
    "# Boolean (or Logical) variable\n",
    "is_student = True\n",
    "print(\"Am I a student?\", is_student)\n",
    "print(type(is_student))\n",
    "\n",
    "# List variable\n",
    "fruits = [\"apple\", \"banana\", \"orange\"]\n",
    "print(\"My favorite fruits are:\", fruits)\n",
    "print(type(fruits))\n",
    "\n",
    "# Dictionary variable\n",
    "person = {\"name\": \"Alice\", \"age\": 30, \"city\": \"New York\"}\n",
    "print(\"Person details:\", person)\n",
    "print(type(person))\n",
    "\n",
    "# Tuple variable\n",
    "coordinates = (40.7128, -74.0060)\n",
    "print(\"Coordinates:\", coordinates)\n",
    "print(type(coordinates))\n"
   ]
  },
  {
   "cell_type": "markdown",
   "id": "eccf79f9-d89b-43d4-a559-7e1a286d18b4",
   "metadata": {},
   "source": [
    "1. age: It is an **integer** variable that represents a person's age. In the example, it is assigned the value 25.\n",
    "\n",
    "2. temperature: It is a **float** variable that represents a temperature measurement. In the example, it is assigned the value 98.6.\n",
    "\n",
    "3. name: It is a **string** variable that stores a person's name. In the example, it is assigned the value \"John Doe\".\n",
    "\n",
    "4. is_student: It is a **boolean** variable that stores a true/false value indicating whether a person is a student or not. In the example, it is assigned the value True.\n",
    "\n",
    "5. fruits: It is a **list** variable that stores a collection of fruits. In the example, it is assigned the value [\"apple\", \"banana\", \"orange\"]. Lists are ordered collections that can hold different types of elements.\n",
    "\n",
    "6. person: It is a **dictionary** variable that stores information about a person. In the example, it is assigned the value {\"name\": \"Alice\", \"age\": 30, \"city\": \"New York\"}. Dictionaries are unordered collections that store key-value pairs.\n",
    "\n",
    "7. coordinates: It is a **tuple** variable that represents a pair of coordinates (latitude and longitude). In the example, it is assigned the value (40.7128, -74.0060). Tuples are immutable sequences typically used to store related values together."
   ]
  },
  {
   "cell_type": "markdown",
   "id": "450897b9-7048-4581-ad99-39131b86927c",
   "metadata": {},
   "source": [
    "# 2. Control Flow"
   ]
  },
  {
   "cell_type": "code",
   "execution_count": 2,
   "id": "a5c7cf8f-5214-487b-b23f-ade8d533ef66",
   "metadata": {},
   "outputs": [
    {
     "name": "stdout",
     "output_type": "stream",
     "text": [
      "You are eligible to vote.\n",
      "Your grade is B.\n",
      "I like apples\n",
      "I like bananas\n",
      "I like oranges\n",
      "Count: 1\n",
      "Count: 2\n",
      "Count: 3\n",
      "Count: 4\n",
      "Count: 5\n",
      "Number: 1\n",
      "Number: 2\n",
      "Number: 3\n",
      "Number: 4\n",
      "Number: 1\n",
      "Number: 2\n",
      "Number: 4\n",
      "Number: 5\n"
     ]
    }
   ],
   "source": [
    "# If-else statement\n",
    "age = 18\n",
    "if age >= 18:\n",
    "    print(\"You are eligible to vote.\")\n",
    "else:\n",
    "    print(\"You are not eligible to vote yet.\")\n",
    "\n",
    "# Elif statement\n",
    "grade = 85\n",
    "if grade >= 90:\n",
    "    print(\"Your grade is A.\")\n",
    "elif grade >= 80:\n",
    "    print(\"Your grade is B.\")\n",
    "elif grade >= 70:\n",
    "    print(\"Your grade is C.\")\n",
    "else:\n",
    "    print(\"Your grade is below C.\")\n",
    "\n",
    "# For loop\n",
    "fruits = [\"apples\", \"bananas\", \"oranges\"]\n",
    "for fruit in fruits:\n",
    "    print(\"I like\", fruit)\n",
    "\n",
    "# While loop\n",
    "count = 1\n",
    "while count <= 5:\n",
    "    print(\"Count:\", count)\n",
    "    count += 1\n",
    "\n",
    "# Break statement\n",
    "for num in range(1, 10):\n",
    "    if num == 5:\n",
    "        break\n",
    "    print(\"Number:\", num)\n",
    "\n",
    "# Continue statement\n",
    "for num in range(1, 6):\n",
    "    if num == 3:\n",
    "        continue\n",
    "    print(\"Number:\", num)\n",
    "     "
   ]
  },
  {
   "cell_type": "markdown",
   "id": "078c64e6-2e97-4c10-ade6-7839ddcad867",
   "metadata": {},
   "source": [
    "In this script, we have examples of different control flow statements:\n",
    "\n",
    "1. **if-else** statement: It checks if a given condition is true and executes the corresponding block of code. In the example, it checks the age variable and determines whether the person is eligible to vote.\n",
    "\n",
    "2. **elif** statement: It allows checking multiple conditions using \"else if\" clauses. In the example, it determines the grade based on the grade variable.\n",
    "\n",
    "3. **for** loop: It iterates over a sequence (in this case, a list of fruits) and performs a set of actions for each element.\n",
    "\n",
    "4. **while** loop: It repeatedly executes a block of code as long as a condition is true. In the example, it prints the count from 1 to 5.\n",
    "\n",
    "5. **break** statement: It terminates the execution of a loop prematurely. In the example, the loop stops when num equals 5.\n",
    "\n",
    "6. **continue** statement: It skips the rest of the loop iteration and moves to the next iteration. In the example, it skips printing the number 3."
   ]
  },
  {
   "cell_type": "markdown",
   "id": "8b483937-cd58-40fe-a5a3-8f0d99a7c821",
   "metadata": {},
   "source": [
    "# 3. Operators"
   ]
  },
  {
   "cell_type": "code",
   "execution_count": 3,
   "id": "2c07abc9-1ab7-498d-8c46-b4b2e6059f0a",
   "metadata": {},
   "outputs": [
    {
     "name": "stdout",
     "output_type": "stream",
     "text": [
      "20\n",
      "14\n",
      "51\n",
      "5.666666666666667\n",
      "2\n",
      "5\n",
      "4913\n"
     ]
    }
   ],
   "source": [
    "## Arithmetic Operators\n",
    "\n",
    "x = 17\n",
    "y = 3\n",
    "\n",
    "print (x+y)\n",
    "print (x-y)\n",
    "print (x*y)\n",
    "print (x/y)\n",
    "print (x%y)\n",
    "print (x//y)\n",
    "print (x**y)"
   ]
  },
  {
   "cell_type": "code",
   "execution_count": 4,
   "id": "48e29fc0-e688-4d38-8fd2-fbf55ebd98be",
   "metadata": {},
   "outputs": [
    {
     "name": "stdout",
     "output_type": "stream",
     "text": [
      "x less than y : False\n",
      "x less than or equal to y : False\n",
      "x equals y : False\n",
      "x greater than y : True\n",
      "x greater than or equal to y : True\n",
      "x not equals y : True\n"
     ]
    }
   ],
   "source": [
    "## Comparison Operators\n",
    "\n",
    "x = 17\n",
    "y = 3\n",
    "\n",
    "print (\"x less than y :\", x<y)\n",
    "print (\"x less than or equal to y :\",x<=y)\n",
    "print (\"x equals y :\",x==y)\n",
    "print (\"x greater than y :\",x>y)\n",
    "print (\"x greater than or equal to y :\",x>=y)\n",
    "print (\"x not equals y :\",x!=y)"
   ]
  },
  {
   "cell_type": "code",
   "execution_count": 5,
   "id": "5ac2bdee-e6ff-4dd8-9042-c82279dc138a",
   "metadata": {},
   "outputs": [
    {
     "name": "stdout",
     "output_type": "stream",
     "text": [
      "True or False : True\n",
      "True and False : False\n",
      "True and True : True\n",
      "not True : False\n"
     ]
    }
   ],
   "source": [
    "## Logical Operators\n",
    "\n",
    "x = True\n",
    "y = False\n",
    "z = True\n",
    "\n",
    "print (\"True or False :\", x or y)\n",
    "print (\"True and False :\",x and y)\n",
    "print (\"True and True :\",x and z)\n",
    "print (\"not True :\",not x)"
   ]
  },
  {
   "cell_type": "code",
   "execution_count": 6,
   "id": "87855c96-7a58-492c-82b2-8ab70c7bcb58",
   "metadata": {},
   "outputs": [
    {
     "name": "stdout",
     "output_type": "stream",
     "text": [
      "20\n",
      "17\n",
      "51\n",
      "3\n",
      "3\n"
     ]
    }
   ],
   "source": [
    "## Assignment Operators\n",
    "\n",
    "x = 17\n",
    "y = 3\n",
    "\n",
    "x+=y\n",
    "print(x)\n",
    "x-=y\n",
    "print(x)\n",
    "x*=y\n",
    "print(x)\n",
    "x&=y\n",
    "print(x)\n",
    "x|=y\n",
    "print(x)\n"
   ]
  },
  {
   "cell_type": "markdown",
   "id": "c910d7b4-9696-40ba-a4b6-2f9ca144adcc",
   "metadata": {},
   "source": [
    "# 4. Modules"
   ]
  },
  {
   "cell_type": "markdown",
   "id": "4b005b97-4d67-44c3-bfb7-496d6e4c1bb7",
   "metadata": {},
   "source": [
    "When you install python you get the Python interpreter, its built-in types and function and python standard library. By using import module we can use it's function in our program.\n",
    "\n",
    "References: \n",
    "The Python Language Reference: http://docs.python.org/2/reference/index.html </br>\n",
    "            \n",
    "The Python Standard Library: http://docs.python.org/2/library/\n",
    "\n"
   ]
  },
  {
   "cell_type": "code",
   "execution_count": 7,
   "id": "1d4bdfc3-73e2-4c46-8a4f-832aaed78ec6",
   "metadata": {},
   "outputs": [
    {
     "data": {
      "text/plain": [
       "6.0"
      ]
     },
     "execution_count": 7,
     "metadata": {},
     "output_type": "execute_result"
    }
   ],
   "source": [
    "# To use a module in a Python program it first has to be imported. A module can be imported using the import statement. For example, to import the module math, which contains many standard mathematical functions, we can do:\n",
    "\n",
    "import math\n",
    "math.sqrt(36)\n",
    "\n",
    "#help(math.sqrt)\n",
    "#dir(math) # To view the function with math module, we can use dir(math)"
   ]
  },
  {
   "cell_type": "markdown",
   "id": "401c2574-d5ec-4a91-a14a-96e795b3f196",
   "metadata": {},
   "source": [
    "# 5. Function"
   ]
  },
  {
   "cell_type": "code",
   "execution_count": 8,
   "id": "984b6ac8-f745-460c-bc91-390676e0a0f3",
   "metadata": {},
   "outputs": [
    {
     "name": "stdout",
     "output_type": "stream",
     "text": [
      "Hello, there!\n",
      "Sum: 8\n",
      "Product: 8\n",
      "Average: 5.0\n"
     ]
    }
   ],
   "source": [
    "# Function without parameters\n",
    "def greet():\n",
    "    print(\"Hello, there!\")\n",
    "\n",
    "# Function with parameters\n",
    "def add_numbers(a, b):\n",
    "    sum = a + b\n",
    "    return sum\n",
    "\n",
    "# Function with default parameter value\n",
    "def multiply_numbers(a, b=2):\n",
    "    product = a * b\n",
    "    return product\n",
    "\n",
    "# Function with variable number of arguments\n",
    "def calculate_average(*numbers):\n",
    "    total = sum(numbers)\n",
    "    average = total / len(numbers)\n",
    "    return average\n",
    "\n",
    "# Calling functions\n",
    "greet()  # Output: Hello, there!\n",
    "\n",
    "result = add_numbers(3, 5)\n",
    "print(\"Sum:\", result)  # Output: Sum: 8\n",
    "\n",
    "result = multiply_numbers(4)\n",
    "print(\"Product:\", result)  # Output: Product: 8\n",
    "\n",
    "result = calculate_average(2, 4, 6, 8)\n",
    "print(\"Average:\", result)  # Output: Average: 5.0"
   ]
  },
  {
   "cell_type": "markdown",
   "id": "a466309f-3552-4a1d-b137-ae1fd817472d",
   "metadata": {},
   "source": [
    "In this script, we have examples of different function concepts:\n",
    "\n",
    "1. **Function without parameters**: The greet() function does not take any parameters and simply prints a greeting message.\n",
    "\n",
    "2. **Function with parameters**: The add_numbers(a, b) function takes two parameters a and b, adds them together, and returns the sum.\n",
    "\n",
    "3. **Function with default parameter value**: The multiply_numbers(a, b=2) function takes two parameters a and b, multiplies them together, and returns the product. If the b parameter is not provided, it defaults to 2.\n",
    "\n",
    "4. **Function with variable number of arguments**: The calculate_average(numbers) function uses the numbers syntax to accept any number of arguments. It calculates the average of all the numbers and returns the result."
   ]
  },
  {
   "cell_type": "markdown",
   "id": "11674d12-b30c-416e-8e61-7391a4f9d8ae",
   "metadata": {},
   "source": [
    "# 6. Input & Output Operations"
   ]
  },
  {
   "cell_type": "code",
   "execution_count": 9,
   "id": "3b4a73c5-d114-4c1d-b3ae-8d1a0be18196",
   "metadata": {},
   "outputs": [
    {
     "name": "stdout",
     "output_type": "stream",
     "text": [
      "CHATBOT:\n",
      "Hello! I am a bot designed to ask you a few questions.\n",
      "... but before we begin, I've forgotten my own name.\n",
      "\n",
      "CHATBOT:\n"
     ]
    },
    {
     "name": "stdout",
     "output_type": "stream",
     "text": [
      "Q: Can you remind me what my name is?  Chat\n"
     ]
    },
    {
     "name": "stdout",
     "output_type": "stream",
     "text": [
      "\n",
      "CHAT:\n",
      "Of course! That's right! Thank you for reminding me!\n",
      "... okay, now let's get to those questions!\n",
      "\n",
      "CHAT:\n"
     ]
    },
    {
     "name": "stdout",
     "output_type": "stream",
     "text": [
      "Q: What is your name?  Sanju\n"
     ]
    },
    {
     "name": "stdout",
     "output_type": "stream",
     "text": [
      "\n",
      "CHAT:\n",
      "Hello, Sanju.\n",
      "It's nice to meet you!\n",
      "\n",
      "CHAT:\n"
     ]
    },
    {
     "name": "stdout",
     "output_type": "stream",
     "text": [
      "Q: Sanju, how old are you?  20\n"
     ]
    },
    {
     "name": "stdout",
     "output_type": "stream",
     "text": [
      "\n",
      "CHAT:\n",
      "Thank you for the information, Sanju.\n",
      "... 20 years old is a wonderful age to be!\n",
      "\n",
      "CHAT:\n"
     ]
    },
    {
     "name": "stdout",
     "output_type": "stream",
     "text": [
      "Q: How tall are you (in cm)?  100\n"
     ]
    },
    {
     "name": "stdout",
     "output_type": "stream",
     "text": [
      "\n",
      "CHAT:\n",
      "Thank you for that. One more question...\n",
      "\n",
      "CHAT:\n"
     ]
    },
    {
     "name": "stdout",
     "output_type": "stream",
     "text": [
      "Q: If you don't mind, how much do you weigh (in kg)?  100\n"
     ]
    },
    {
     "name": "stdout",
     "output_type": "stream",
     "text": [
      "\n",
      "CHAT:\n",
      "Now I know that your height is 100 cm and your weight is 100 kg.\n",
      "... please give me a few seconds to calculate your BMI.\n",
      "\n",
      "......\n",
      "\n",
      "CHAT:\n",
      "I've calculated that you have the perfect ratio of height and weight!\n",
      "... Thank you for answering my questions! Have a nice day, Sanju!\n",
      "\n"
     ]
    }
   ],
   "source": [
    "import time\n",
    "\n",
    "# Input from the user\n",
    "print(\"CHATBOT:\")\n",
    "print(\"Hello! I am a bot designed to ask you a few questions.\")\n",
    "time.sleep(2)\n",
    "print(\"... but before we begin, I've forgotten my own name.\")\n",
    "print(\"\")\n",
    "\n",
    "time.sleep(2)\n",
    "print(\"CHATBOT:\")\n",
    "bot_name = input(\"Q: Can you remind me what my name is? \")\n",
    "bot_name = bot_name.upper()\n",
    "print(\"\")\n",
    "time.sleep(1)\n",
    "print(bot_name + \":\")\n",
    "print(\"Of course! That's right! Thank you for reminding me!\")\n",
    "time.sleep(2)\n",
    "\n",
    "print(\"... okay, now let's get to those questions!\")\n",
    "print(\"\")\n",
    "time.sleep(2)\n",
    "\n",
    "# Input from the user\n",
    "print(bot_name + \":\")\n",
    "name = input(\"Q: What is your name? \")\n",
    "print(\"\")\n",
    "time.sleep(1)\n",
    "print(bot_name + \":\")\n",
    "print(\"Hello, \" + name + \".\")\n",
    "print(\"It's nice to meet you!\")\n",
    "print(\"\")\n",
    "time.sleep(2)\n",
    "\n",
    "# Reading numeric input\n",
    "print(bot_name + \":\")\n",
    "age = int(input(\"Q: \" + name + \", how old are you? \"))\n",
    "print(\"\")\n",
    "time.sleep(1)\n",
    "print(bot_name + \":\")\n",
    "print(\"Thank you for the information, \" + name + \".\")\n",
    "time.sleep(1)\n",
    "print(\"... \" + str(age) + \" years old is a wonderful age to be!\")\n",
    "print(\"\")\n",
    "time.sleep(3)\n",
    "\n",
    "# Output formatting\n",
    "print(bot_name + \":\")\n",
    "height = float(input(\"Q: How tall are you (in cm)? \"))\n",
    "print(\"\")\n",
    "time.sleep(1)\n",
    "print(bot_name + \":\")\n",
    "print(\"Thank you for that. One more question...\")\n",
    "print(\"\")\n",
    "time.sleep(2)\n",
    "print(bot_name + \":\")\n",
    "weight = float(input(\"Q: If you don't mind, how much do you weigh (in kg)? \"))\n",
    "print(\"\")\n",
    "time.sleep(2)\n",
    "print(bot_name + \":\")\n",
    "print(f\"Now I know that your height is {height:.0f} cm and your weight is {weight:.0f} kg.\")\n",
    "time.sleep(2)\n",
    "print(\"... please give me a few seconds to calculate your BMI.\")\n",
    "print(\"\")\n",
    "\n",
    "# Loop to print dots\n",
    "for _ in range(6):\n",
    "    print(\".\", end=\"\", flush=True)  # Print dot without a newline\n",
    "    time.sleep(1)  # Delay of 1 second between dots\n",
    "\n",
    "print(\"\")\n",
    "print(\"\")\n",
    "print(bot_name + \":\")\n",
    "print(\"I've calculated that you have the perfect ratio of height and weight!\")\n",
    "time.sleep(2)\n",
    "print(\"... Thank you for answering my questions! Have a nice day, \" + name + \"!\")\n",
    "print(\"\")"
   ]
  },
  {
   "cell_type": "code",
   "execution_count": 10,
   "id": "632d0b72-a5af-42f5-9ad7-300ddc978354",
   "metadata": {},
   "outputs": [
    {
     "name": "stdout",
     "output_type": "stream",
     "text": [
      "\n",
      "Content of the file:\n",
      " \n",
      "This is some text.\n",
      "This is another line.\n"
     ]
    }
   ],
   "source": [
    "# Writing to a file\n",
    "file_path = \"output.txt\"\n",
    "with open(file_path, \"w\") as file:\n",
    "    file.write(\"\\nThis is some text.\\n\")  # The \\n escape sequence in the first string inserts a new line\n",
    "    file.write(\"This is another line.\")  # So this second line will appear on a new line\n",
    "\n",
    "# Reading from a file\n",
    "with open(file_path, \"r\") as file:\n",
    "    content = file.read()\n",
    "    print(\"\\nContent of the file:\\n\", content)\n",
    "     "
   ]
  },
  {
   "cell_type": "markdown",
   "id": "c9249949-1b0c-4099-a005-7490f1593636",
   "metadata": {},
   "source": [
    "1. Input from the user:\n",
    ". The input() function is used to prompt the user to enter their name.\n",
    ". The entered name is stored in the name variable.\n",
    ". The print() function is used to display a greeting message, including the entered name.\n",
    "\n",
    "2. Reading numeric input:\n",
    ". The input() function is used to prompt the user to enter their age.\n",
    ". The entered value is treated as a string.\n",
    ". The int() function is used to convert the entered string to an integer and store it in the age variable.\n",
    ". Two print() statements are used to display an empty line and the user's age.\n",
    "\n",
    "3. Output formatting:\n",
    ". The height and weight variables are defined with float values representing height in meters and weight in kilograms.\n",
    ". Two print() statements are used to display an empty line and formatted output for height and weight.\n",
    "The format() method is used to format the values with specific decimal places.\n",
    "\n",
    "4. Writing to a file:\n",
    ". The file_path variable is set to \"output.txt\", specifying the name of the file to be written.\n",
    ". The open() function is used to open the file in write mode (\"w\").\n",
    ". The with statement ensures that the file is properly closed after writing.\n",
    ". The write() method is used to write two strings to the file. The first string starts with a newline (\\n) escape sequence, which inserts a new line in the file.\n",
    "\n",
    "5. Reading from a file:\n",
    ". The with statement is used to open the file in read mode (\"r\").\n",
    ". The file.read() method reads the content of the file and stores it in the content variable.\n",
    ". A print() statement is used to display an empty line, followed by the content of the file."
   ]
  },
  {
   "cell_type": "markdown",
   "id": "18521324-a713-4f72-90d7-8303a77f9cf3",
   "metadata": {},
   "source": [
    "# 7. Lists & Indexing"
   ]
  },
  {
   "cell_type": "code",
   "execution_count": 11,
   "id": "d94ad98b-60fc-442c-893e-adef83d5f965",
   "metadata": {},
   "outputs": [
    {
     "name": "stdout",
     "output_type": "stream",
     "text": [
      "Fruits: ['apple', 'banana', 'orange', 'grape', 'kiwi']\n",
      "First fruit: apple\n",
      "Third fruit: orange\n",
      "Last fruit: kiwi\n",
      "Modified fruits: ['apple', 'pear', 'orange', 'grape', 'kiwi']\n",
      "Subset: ['pear', 'orange', 'grape']\n",
      "Updated fruits: ['apple', 'pear', 'pineapple', 'orange', 'grape', 'kiwi', 'mango']\n",
      "Removed fruit: orange\n",
      "Updated fruits: ['apple', 'pear', 'pineapple', 'grape', 'kiwi', 'mango']\n",
      "Number of fruits: 6\n",
      "Kiwi is in the list.\n"
     ]
    }
   ],
   "source": [
    "# Creating a list\n",
    "fruits = [\"apple\", \"banana\", \"orange\", \"grape\", \"kiwi\"]\n",
    "print(\"Fruits:\", fruits)\n",
    "\n",
    "# Accessing elements by index\n",
    "print(\"First fruit:\", fruits[0])\n",
    "print(\"Third fruit:\", fruits[2])\n",
    "print(\"Last fruit:\", fruits[-1])\n",
    "\n",
    "# Modifying elements by index\n",
    "fruits[1] = \"pear\"\n",
    "print(\"Modified fruits:\", fruits)\n",
    "\n",
    "# Slicing a list\n",
    "subset = fruits[1:4]\n",
    "print(\"Subset:\", subset)\n",
    "\n",
    "# Adding elements to a list\n",
    "fruits.append(\"mango\")\n",
    "fruits.insert(2, \"pineapple\")\n",
    "print(\"Updated fruits:\", fruits)\n",
    "\n",
    "# Removing elements from a list\n",
    "removed_fruit = fruits.pop(3)\n",
    "print(\"Removed fruit:\", removed_fruit)\n",
    "print(\"Updated fruits:\", fruits)\n",
    "\n",
    "# Length of a list\n",
    "num_fruits = len(fruits)\n",
    "print(\"Number of fruits:\", num_fruits)\n",
    "\n",
    "# Checking if an element is in a list\n",
    "if \"kiwi\" in fruits:\n",
    "    print(\"Kiwi is in the list.\")\n",
    "else:\n",
    "    print(\"Kiwi is not in the list.\")"
   ]
  },
  {
   "cell_type": "markdown",
   "id": "12e94660-7175-4f7a-a646-6642014aa87a",
   "metadata": {},
   "source": [
    "In this script, we have examples of lists and indexing:\n",
    "\n",
    "1. Creating a list: The fruits list is created with five initial elements.\n",
    "\n",
    "2. Accessing elements by index: Elements of the list can be accessed using square brackets [] with the index position. Indexing starts from 0, and negative indices count from the end of the list.\n",
    "\n",
    "3. Modifying elements by index: Elements in the list can be modified by assigning a new value to a specific index.\n",
    "\n",
    "4. Slicing a list: A subset of elements can be extracted from the list using the slicing technique. It allows specifying a range of indices to retrieve a portion of the list.\n",
    "\n",
    "5. Adding elements to a list: Elements can be added to a list using the append() method to add at the end or the insert() method to insert at a specific index.\n",
    "\n",
    "6. Removing elements from a list: Elements can be removed from a list using the pop() method, which removes and returns the element at a specific index.\n",
    "\n",
    "7. Length of a list: The len() function is used to determine the number of elements in a list.\n",
    "\n",
    "8. Checking if an element is in a list: The in keyword is used to check if a particular element exists in the list."
   ]
  },
  {
   "cell_type": "markdown",
   "id": "4626cdbe-f1f4-4f75-822d-bcc32a807254",
   "metadata": {},
   "source": [
    "# 8. Error Handling "
   ]
  },
  {
   "cell_type": "code",
   "execution_count": 12,
   "id": "23eff723-e1a7-4770-ba3f-46ba1c4bae9d",
   "metadata": {},
   "outputs": [
    {
     "name": "stdout",
     "output_type": "stream",
     "text": [
      "Enter a number:  7\n"
     ]
    },
    {
     "name": "stdout",
     "output_type": "stream",
     "text": [
      "Result: 1.4285714285714286\n"
     ]
    }
   ],
   "source": [
    "# Handling a specific exception\n",
    "try:\n",
    "    num = int(input(\"Enter a number: \"))\n",
    "    result = 10 / num\n",
    "    print(\"Result:\", result)\n",
    "except ValueError:\n",
    "    print(\"Invalid input. Please enter a valid number.\")\n",
    "except ZeroDivisionError:\n",
    "    print(\"Cannot divide by zero.\")"
   ]
  },
  {
   "cell_type": "code",
   "execution_count": 13,
   "id": "9767cb7b-35ab-4ffd-b50d-fa93b0171b67",
   "metadata": {},
   "outputs": [
    {
     "name": "stdout",
     "output_type": "stream",
     "text": [
      "Enter an index:  6\n"
     ]
    },
    {
     "name": "stdout",
     "output_type": "stream",
     "text": [
      "Selected fruit: lime\n"
     ]
    }
   ],
   "source": [
    "# Handling multiple exceptions\n",
    "try:\n",
    "    index = int(input(\"Enter an index: \"))\n",
    "    fruit = [\"apple\", \"banana\", \"orange\", \"blueberry\", \"pineapple\", \"dragonfruit\", \"lime\", \"grape\"]\n",
    "    print(\"Selected fruit:\", fruit[index])\n",
    "except (ValueError, IndexError):\n",
    "    print(\"Invalid input or index out of range.\")\n",
    "     "
   ]
  },
  {
   "cell_type": "code",
   "execution_count": 14,
   "id": "f17c06e6-19e8-4efe-b6df-a1603c6c9c06",
   "metadata": {},
   "outputs": [
    {
     "name": "stdout",
     "output_type": "stream",
     "text": [
      "An error occurred: [Errno 2] No such file or directory: 'nonexistent.txt'\n"
     ]
    }
   ],
   "source": [
    "# Handling any exception\n",
    "try:\n",
    "    file = open(\"nonexistent.txt\", \"r\")\n",
    "    content = file.read()\n",
    "    file.close()\n",
    "    print(\"File content:\", content)\n",
    "except Exception as e:\n",
    "    print(\"An error occurred:\", str(e))"
   ]
  },
  {
   "cell_type": "markdown",
   "id": "1c1b33f3-5779-4238-9484-9edbfe164706",
   "metadata": {},
   "source": [
    "In this script, we have examples of error handling:\n",
    "\n",
    "1. Handling a specific exception: The try block is used to contain the code that may raise an exception. If a ValueError or ZeroDivisionError occurs, the corresponding except block is executed, and an appropriate error message is displayed.\n",
    "\n",
    "2. Handling multiple exceptions: The try block contains code that may raise a ValueError or an IndexError. If either exception occurs, the common except block is executed, and an error message is displayed.\n",
    "\n",
    "3. Handling any exception: The try block contains code that tries to open a file that does not exist. Since this can potentially raise various types of exceptions, the except block uses the generic Exception class to catch any exception. The error message is displayed using the str(e) representation of the exception object."
   ]
  },
  {
   "cell_type": "markdown",
   "id": "1f2c771c",
   "metadata": {},
   "source": [
    "# 9. Example 1\n",
    "\n",
    "Create a rock paper scissor game where you will provide the input and computer will choose randomly. Check who wins the\n",
    "\n",
    "game you or the computer.\n",
    "\n",
    "Hint: \n",
    "1. Create a list. list = [\"rock\",\"paper\",\"scissors\"]\n",
    "2. Computer choice. \n",
    "    - import random\n",
    "    - random.choice(list) # This gives random choice from the above list for the computer\n",
    "3. Use input to input your choice from keyboard\n",
    "4. Use if elif else statement to compare computer choice and your choice and see who wins"
   ]
  },
  {
   "cell_type": "markdown",
   "id": "dc46fc4e-ef24-4f4f-bac5-f37a3c883490",
   "metadata": {},
   "source": [
    "# 10. Class"
   ]
  },
  {
   "cell_type": "markdown",
   "id": "0736614a-8402-457a-82fe-09e0dd3d941f",
   "metadata": {},
   "source": [
    "A class is defined almost like a function, but using the class keyword, and the class definition usually contains a number of class method definitions (a function in a class).\n",
    "\n",
    "Each class method should have an argument self as its first argument. This object is a self-reference.\n",
    "\n",
    "Some class method names have special meaning, for example:\n",
    "\n",
    "__init__: The name of the method that is invoked when the object is first created. </br>\n",
    "__str__ : A method that is invoked when a simple string representation of the class is needed, as for example when printed.\n",
    "There are many more, see http://docs.python.org/2/reference/datamodel.html#special-method-names\n"
   ]
  },
  {
   "cell_type": "code",
   "execution_count": 15,
   "id": "c6d7469b-e0c6-4612-a243-d83084cfec63",
   "metadata": {},
   "outputs": [
    {
     "name": "stdout",
     "output_type": "stream",
     "text": [
      "10\n"
     ]
    }
   ],
   "source": [
    "class MyClass:\n",
    "    def num(self):\n",
    "        return 10\n",
    "f = MyClass()\n",
    "print(f.num())"
   ]
  },
  {
   "cell_type": "code",
   "execution_count": 16,
   "id": "7cf44c0a-1e66-43e9-bab7-0f39bbb66b0f",
   "metadata": {},
   "outputs": [
    {
     "name": "stdout",
     "output_type": "stream",
     "text": [
      "Point at [0.000000, 1.000000]\n"
     ]
    }
   ],
   "source": [
    "class Point:\n",
    "    \"\"\"\n",
    "    Simple class for representing a point in a Cartesian coordinate system.\n",
    "    \"\"\"\n",
    "    \n",
    "    def __init__(self, x, y):\n",
    "        \"\"\"\n",
    "        Create a new Point at x, y.\n",
    "        \"\"\"\n",
    "        self.x = x\n",
    "        self.y = y\n",
    "        \n",
    "    def translate(self, dx, dy):\n",
    "        \"\"\"\n",
    "        Translate the point by dx and dy in the x and y direction.\n",
    "        \"\"\"\n",
    "        self.x += dx\n",
    "        self.y += dy\n",
    "        \n",
    "    def __str__(self):\n",
    "        return(\"Point at [%f, %f]\" % (self.x, self.y))\n",
    "\n",
    "    \n",
    "p1 = Point(0,1) # this will invoke the __init__ method in the Point class\n",
    "\n",
    "print(p1)         # this will invoke the __str__ method"
   ]
  },
  {
   "cell_type": "markdown",
   "id": "6c660ad3",
   "metadata": {},
   "source": [
    "# 11. Example 2\n",
    "\n",
    "Create a class to manage your bank account. This class should have following functiality. deposit, withdraw and class itself should return the current balance of the account.\n",
    "\n",
    "Hint:\n",
    "\n",
    "class BankAccount:</br>\n",
    "\n",
    "    def __init__(self):</br>\n",
    "        # add your code here\n",
    "\n",
    "    def deposit(self):\n",
    "        # add your code here\n",
    "\n",
    "    def withdraw(self):\n",
    "        #add your code here\n",
    "\n"
   ]
  },
  {
   "cell_type": "markdown",
   "id": "c5a44fa2",
   "metadata": {},
   "source": []
  }
 ],
 "metadata": {
  "kernelspec": {
   "display_name": "Python 3 (ipykernel)",
   "language": "python",
   "name": "python3"
  },
  "language_info": {
   "codemirror_mode": {
    "name": "ipython",
    "version": 3
   },
   "file_extension": ".py",
   "mimetype": "text/x-python",
   "name": "python",
   "nbconvert_exporter": "python",
   "pygments_lexer": "ipython3",
   "version": "3.9.9"
  }
 },
 "nbformat": 4,
 "nbformat_minor": 5
}
