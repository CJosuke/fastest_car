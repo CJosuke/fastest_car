{
 "cells": [
  {
   "cell_type": "markdown",
   "id": "25583c07-5941-485a-ac70-5b9bd5304fe4",
   "metadata": {},
   "source": [
    "# 1. Numpy"
   ]
  },
  {
   "cell_type": "code",
   "execution_count": 1,
   "id": "9c168f70-450a-4beb-b905-b5f59d7a8279",
   "metadata": {},
   "outputs": [],
   "source": [
    "# Install numpy\n",
    "\n",
    "#!pip install --user numpy "
   ]
  },
  {
   "cell_type": "markdown",
   "id": "17b95f24-aed7-4fa3-a3d3-689e65427fc9",
   "metadata": {},
   "source": [
    "## 1.1 Array Creation"
   ]
  },
  {
   "cell_type": "code",
   "execution_count": 16,
   "id": "bef34ab5-d832-4314-952e-5b1c8fe2d934",
   "metadata": {},
   "outputs": [
    {
     "name": "stdout",
     "output_type": "stream",
     "text": [
      "1. Zero array with 3 values:\n",
      " [0. 0. 0.]\n",
      "2. Zero array with 3 row and 4 columns:\n",
      " [[0. 0. 0. 0.]\n",
      " [0. 0. 0. 0.]\n",
      " [0. 0. 0. 0.]]\n",
      "3. Ones array with 3 row and 4 columns:\n",
      " [[1. 1. 1. 1.]\n",
      " [1. 1. 1. 1.]\n",
      " [1. 1. 1. 1.]]\n",
      "4. Evenly spaced from 0 to 6 including start but exclusing stop:\n",
      " [0 1 2 3 4 5]\n",
      "5. Evenly spaced with 2 steps from 2 to 20 including start but exclusing stop:\n",
      " [ 2  4  6  8 10 12 14 16 18]\n",
      "6. Array from list [1,2,3,4]:\n",
      " [1 2 3 4]\n",
      "7. Array from matrix [[1,2],[3,4]]:\n",
      " [[1 2]\n",
      " [3 4]]\n",
      "8. Array from tuple [(2,4,6),(3,5,7)]:\n",
      " [[2 4 6]\n",
      " [3 5 7]]\n"
     ]
    }
   ],
   "source": [
    "# For more reference: https://numpy.org/doc/stable/reference/routines.array-creation.html\n",
    "import numpy as np\n",
    "\n",
    "arr = np.zeros(3)\n",
    "print(\"1. Zero array with 3 values:\\n\",arr)\n",
    "arr = np.zeros((3,4))\n",
    "print(\"2. Zero array with 3 row and 4 columns:\\n\",arr)\n",
    "arr = np.ones((3,4))\n",
    "print(\"3. Ones array with 3 row and 4 columns:\\n\",arr)\n",
    "arr = np.arange(6)\n",
    "print(\"4. Evenly spaced from 0 to 6 including start but exclusing stop:\\n\",arr)\n",
    "arr = np.arange(2,20,2)\n",
    "print(\"5. Evenly spaced with 2 steps from 2 to 20 including start but exclusing stop:\\n\",arr)\n",
    "arr = np.array([1,2,3,4])\n",
    "print(\"6. Array from list [1,2,3,4]:\\n\",arr)\n",
    "arr = np.array([[1, 2], [3, 4]])\n",
    "print(\"7. Array from matrix [[1,2],[3,4]]:\\n\",arr)\n",
    "arr = np.array([(2,4,6),(3,5,7)])\n",
    "print(\"8. Array from tuple [(2,4,6),(3,5,7)]:\\n\",arr)"
   ]
  },
  {
   "cell_type": "markdown",
   "id": "4391caef-aadc-40f5-b670-fe20a20661ba",
   "metadata": {},
   "source": [
    "## 1.2 Array Manipulation"
   ]
  },
  {
   "cell_type": "code",
   "execution_count": 19,
   "id": "36f6eb98-4330-4605-ba59-bd6ed4cdf2dc",
   "metadata": {},
   "outputs": [
    {
     "name": "stdout",
     "output_type": "stream",
     "text": [
      "Original array:\n",
      " [0 1 2 3 4 5]\n",
      "Reshaping array to 3 rows and 2 columns:\n",
      " [[0 1]\n",
      " [2 3]\n",
      " [4 5]]\n",
      "Reshaping array to 2 rows and 3 columns:\n",
      " [[0 1 2]\n",
      " [3 4 5]]\n",
      "Flattening array of 2 rows and 3 columns:\n",
      " [0 1 2 3 4 5]\n"
     ]
    }
   ],
   "source": [
    "import numpy as np\n",
    "\n",
    "arr = np.arange(6)\n",
    "print(\"Original array:\\n\", arr)\n",
    "print(\"Reshaping array to 3 rows and 2 columns:\\n\",arr.reshape(3,2))\n",
    "print(\"Reshaping array to 2 rows and 3 columns:\\n\",arr.reshape(2,3))\n",
    "print(\"Flattening array of 2 rows and 3 columns:\\n\",arr.reshape(2,3).flatten())"
   ]
  },
  {
   "cell_type": "markdown",
   "id": "0ff949fa-7ebe-4985-b2b2-539ec9485a5a",
   "metadata": {},
   "source": [
    "## 1.3 Array Operation"
   ]
  },
  {
   "cell_type": "code",
   "execution_count": 20,
   "id": "39b8dd2f-d1dd-4b59-89a3-4bbdcbd26501",
   "metadata": {},
   "outputs": [
    {
     "name": "stdout",
     "output_type": "stream",
     "text": [
      "1-D array addition:\n",
      " [ 2.2  7.   9.9 11. ]\n",
      "1-D array mod division:\n",
      " [1. 2. 3. 4.]\n",
      "Is 1-D array less than 3?:\n",
      " [ True  True False False]\n"
     ]
    }
   ],
   "source": [
    "## 1-D array\n",
    "import numpy as np\n",
    "\n",
    "a = np.array([1,2,3,4])\n",
    "b = np.array([1.2,5,6.9,7])\n",
    "\n",
    "print(\"1-D array addition:\\n\",a+b)\n",
    "print(\"1-D array mod division:\\n\",a%b)\n",
    "print(\"Is 1-D array less than 3?:\\n\",a<3)"
   ]
  },
  {
   "cell_type": "markdown",
   "id": "324c06dc-7ce5-4c51-8765-b4def63c7e1b",
   "metadata": {},
   "source": [
    "## 1.4 Array Functions"
   ]
  },
  {
   "cell_type": "code",
   "execution_count": 7,
   "id": "f6fe0437-b09b-4ec8-a5c9-3e7d8d79bc41",
   "metadata": {},
   "outputs": [
    {
     "name": "stdout",
     "output_type": "stream",
     "text": [
      "Array:\n",
      " [5.  6.  8.  9.8]\n",
      "Sum of Array:\n",
      " 28.8\n",
      "Minimum value in Array:\n",
      " 5.0\n",
      "Maximum value in Array:\n",
      " 9.8\n",
      "Mean of Array:\n",
      " 7.2\n",
      "Median of Array:\n",
      " 7.0\n"
     ]
    }
   ],
   "source": [
    "import numpy as np\n",
    "\n",
    "arr = np.array([5,6,8,9.8])\n",
    "print(\"Array:\\n\", arr)\n",
    "print(\"Sum of Array:\\n\", arr.sum())\n",
    "print(\"Minimum value in Array:\\n\", arr.min())\n",
    "print(\"Maximum value in Array:\\n\", arr.max())\n",
    "print(\"Mean of Array:\\n\", np.mean(arr))\n",
    "print(\"Median of Array:\\n\",np.median(arr) )"
   ]
  },
  {
   "cell_type": "code",
   "execution_count": 9,
   "id": "154b8c16-b6cc-41fb-a68f-6503bb274995",
   "metadata": {},
   "outputs": [
    {
     "name": "stdout",
     "output_type": "stream",
     "text": [
      "Sum along column:\n",
      " [12 15 18 21]\n",
      "Min value along column:\n",
      " [0 1 2 3]\n",
      "Max value along column:\n",
      " [ 8  9 10 11]\n",
      "Sum along rows:\n",
      " [ 6 22 38]\n",
      "Min value along rows:\n",
      " [0 4 8]\n",
      "Max value along rows:\n",
      " [ 3  7 11]\n"
     ]
    }
   ],
   "source": [
    "# 2D array\n",
    "arr = np.arange(12).reshape(3,4)\n",
    "print(\"Sum along column:\\n\",arr.sum(axis=0))\n",
    "print(\"Min value along column:\\n\",arr.min(axis=0))\n",
    "print(\"Max value along column:\\n\",arr.max(axis=0))\n",
    "print(\"Sum along rows:\\n\",arr.sum(axis=1))\n",
    "print(\"Min value along rows:\\n\",arr.min(axis=1))\n",
    "print(\"Max value along rows:\\n\",arr.max(axis=1))"
   ]
  },
  {
   "cell_type": "markdown",
   "id": "ba4d616e-8a56-4353-b679-ba44e72827be",
   "metadata": {},
   "source": [
    "## 1.5 Indexing and Slicing"
   ]
  },
  {
   "cell_type": "code",
   "execution_count": 15,
   "id": "24249a9e-e367-4d85-a2bc-de615e74067b",
   "metadata": {},
   "outputs": [
    {
     "name": "stdout",
     "output_type": "stream",
     "text": [
      "Original Array:\n",
      " [ 0  1  2  3  4  5  6  7  8  9 10]\n",
      "This is 2nd index value:\n",
      " 2\n",
      "This is 2ndlast index value:\n",
      " 9\n"
     ]
    }
   ],
   "source": [
    "# Indexing\n",
    "arr = np.arange(11)\n",
    "print(\"Original Array:\\n\",arr)\n",
    "print(\"This is 2nd index value:\\n\", arr[2])\n",
    "print(\"This is 2ndlast index value:\\n\", arr[-2])\n"
   ]
  },
  {
   "cell_type": "code",
   "execution_count": 21,
   "id": "a7344cd6-c49a-4199-a5e8-41e2c93dbd0c",
   "metadata": {},
   "outputs": [
    {
     "name": "stdout",
     "output_type": "stream",
     "text": [
      "Original Array:\n",
      " [['John' 'Alice' 'Bob' 'Sam']\n",
      " ['69' '89' '12' '56']\n",
      " ['34' '87' '90' '23']]\n",
      "Get elements from 0 row and 2 column:\n",
      " Bob\n"
     ]
    }
   ],
   "source": [
    "# Indexing 2D array\n",
    "\n",
    "students = np.array([['John','Alice','Bob','Sam'],\n",
    "                     [69,89,12,56],\n",
    "                     [34,87,90,23]])\n",
    "print(\"Original Array:\\n\", students)\n",
    "print(\"Get elements from 0 row and 2 column:\\n\",students[0,2])"
   ]
  },
  {
   "cell_type": "code",
   "execution_count": 22,
   "id": "4be18a37-6de4-4fe9-9c4d-fb81c82ce098",
   "metadata": {},
   "outputs": [
    {
     "name": "stdout",
     "output_type": "stream",
     "text": [
      "Original Array:\n",
      " [ 0  1  2  3  4  5  6  7  8  9 10]\n",
      "Get item from 2nd index to 7th index:\n",
      " [2 3 4 5 6]\n",
      "Get all values after 2nd index:\n",
      " [ 2  3  4  5  6  7  8  9 10]\n",
      "Get all values before 7th index:\n",
      " [0 1 2 3 4 5 6]\n",
      "Get all values before 11th index with step 2:\n",
      " [ 0  2  4  6  8 10]\n"
     ]
    }
   ],
   "source": [
    "# Slicing\n",
    "arr = np.arange(11)\n",
    "print(\"Original Array:\\n\",arr)\n",
    "print(\"Get item from 2nd index to 7th index:\\n\",arr[2:7])\n",
    "print(\"Get all values after 2nd index:\\n\", arr[2:] )\n",
    "print(\"Get all values before 7th index:\\n\", arr[:7] )\n",
    "print(\"Get all values before 11th index with step 2:\\n\",arr[:11:2])"
   ]
  },
  {
   "cell_type": "code",
   "execution_count": 24,
   "id": "27179820-978f-4abb-8e66-2a3ac0aa946d",
   "metadata": {},
   "outputs": [
    {
     "name": "stdout",
     "output_type": "stream",
     "text": [
      "Original Array:\n",
      " [['John' 'Alice' 'Bob' 'Sam']\n",
      " ['69' '89' '12' '56']\n",
      " ['34' '87' '90' '23']]\n",
      "Get all elements from 0th row:\n",
      " ['John' 'Alice' 'Bob' 'Sam']\n",
      "Get all elements from 0th column:\n",
      " ['John' '69' '34']\n",
      "Get element from 0 to 2 along rows and 2 to 4 along columns:\n",
      " [['Bob' 'Sam']\n",
      " ['12' '56']]\n"
     ]
    }
   ],
   "source": [
    "# Slicing 2D array\n",
    "\n",
    "students = np.array([['John','Alice','Bob','Sam'],\n",
    "                     [69,89,12,56],\n",
    "                     [34,87,90,23]])\n",
    "print(\"Original Array:\\n\", students)\n",
    "print(\"Get all elements from 0th row:\\n\",students[0])\n",
    "print(\"Get all elements from 0th column:\\n\", students[:,0])\n",
    "print(\"Get element from 0 to 2 along rows and 2 to 4 along columns:\\n\",students[0:2,2:4])\n"
   ]
  },
  {
   "cell_type": "markdown",
   "id": "90da71e5-7a42-4969-b143-0408b6317d1e",
   "metadata": {},
   "source": [
    "## 1.6 Iterating Over Arrays"
   ]
  },
  {
   "cell_type": "code",
   "execution_count": 25,
   "id": "f37da85a-3f98-4338-9e47-e14a83f95f46",
   "metadata": {},
   "outputs": [
    {
     "name": "stdout",
     "output_type": "stream",
     "text": [
      "['John' 'Alice' 'Bob' 'Sam']\n",
      "['69' '89' '12' '56']\n",
      "['34' '87' '90' '23']\n"
     ]
    }
   ],
   "source": [
    "students = np.array([['John','Alice','Bob','Sam'],\n",
    "                     [69,89,12,56],\n",
    "                     [34,87,90,23]])\n",
    "for i in students:\n",
    "    print (i)"
   ]
  },
  {
   "cell_type": "code",
   "execution_count": 26,
   "id": "4bede48f-77ed-4591-bfd3-743816f593ea",
   "metadata": {},
   "outputs": [
    {
     "name": "stdout",
     "output_type": "stream",
     "text": [
      "John\n",
      "Alice\n",
      "Bob\n",
      "Sam\n",
      "69\n",
      "89\n",
      "12\n",
      "56\n",
      "34\n",
      "87\n",
      "90\n",
      "23\n"
     ]
    }
   ],
   "source": [
    "for i in students.flatten():\n",
    "    print(i)"
   ]
  },
  {
   "cell_type": "code",
   "execution_count": 28,
   "id": "e70aee00-a65f-4698-ab8a-b93434486875",
   "metadata": {},
   "outputs": [
    {
     "name": "stdout",
     "output_type": "stream",
     "text": [
      "John\n",
      "69\n",
      "34\n",
      "Alice\n",
      "89\n",
      "87\n",
      "Bob\n",
      "12\n",
      "90\n",
      "Sam\n",
      "56\n",
      "23\n"
     ]
    }
   ],
   "source": [
    "# flattening across columns\n",
    "for i in students.flatten(order='F'):\n",
    "    print(i)"
   ]
  },
  {
   "cell_type": "markdown",
   "id": "f8bbda96-7717-41d5-9cf1-48bebfc5b1f9",
   "metadata": {},
   "source": [
    "# 2. Pandas"
   ]
  },
  {
   "cell_type": "markdown",
   "id": "44d265a9-50c3-4d90-9646-8ac9e04ffb29",
   "metadata": {},
   "source": [
    "Two Data Types\n",
    "\n",
    "1. Series - One dimensional labeled array. Can hold data of any type.</br>\n",
    "2. Dataframe - a two dimensional labeled datastructure that can hold data of any type. "
   ]
  },
  {
   "cell_type": "markdown",
   "id": "8ee26e5b-6431-4666-88d8-c967f2149762",
   "metadata": {},
   "source": [
    "## 2.1 dtypes,index,columns,shape"
   ]
  },
  {
   "cell_type": "code",
   "execution_count": 21,
   "id": "452c562c-ff57-46d4-9434-29a0af6baad6",
   "metadata": {},
   "outputs": [
    {
     "name": "stdout",
     "output_type": "stream",
     "text": [
      "1. Original Array:\n",
      " [ 1  2  3  4  5  6  7  8  9 10 11 12]\n",
      "2. Panda Series:\n",
      " 0      1\n",
      "1      2\n",
      "2      3\n",
      "3      4\n",
      "4      5\n",
      "5      6\n",
      "6      7\n",
      "7      8\n",
      "8      9\n",
      "9     10\n",
      "10    11\n",
      "11    12\n",
      "dtype: int64\n",
      "3. Series data type:\n",
      " int64\n",
      "4. Series index:\n",
      " RangeIndex(start=0, stop=12, step=1)\n",
      "5. Series shape:\n",
      " (12,)\n",
      "\n",
      "\n",
      "6. Array of 3 rows and 3 columns:\n",
      " [[ 1  2  3]\n",
      " [ 4  5  6]\n",
      " [ 7  8  9]\n",
      " [10 11 12]]\n",
      "7. Panda Dataframe:\n",
      "     0   1   2\n",
      "0   1   2   3\n",
      "1   4   5   6\n",
      "2   7   8   9\n",
      "3  10  11  12\n",
      "8. Dataframe data type:\n",
      " 0    int64\n",
      "1    int64\n",
      "2    int64\n",
      "dtype: object\n",
      "9. Dataframe index:\n",
      " RangeIndex(start=0, stop=4, step=1)\n",
      "10. Dataframe columns:\n",
      " RangeIndex(start=0, stop=3, step=1)\n",
      "11. Dataframe shape:\n",
      " (4, 3)\n"
     ]
    }
   ],
   "source": [
    "import numpy as np\n",
    "import pandas as pd\n",
    "\n",
    "## Series\n",
    "arr = np.arange(1,13)\n",
    "print(\"1. Original Array:\\n\", arr)\n",
    "series = pd.Series(arr)\n",
    "print(\"2. Panda Series:\\n\",series)\n",
    "print(\"3. Series data type:\\n\",series.dtypes)\n",
    "print(\"4. Series index:\\n\",series.index)\n",
    "print(\"5. Series shape:\\n\",series.shape)\n",
    "\n",
    "\n",
    "## Dataframe\n",
    "arr = arr.reshape(4,3)\n",
    "print(\"\\n\\n6. Array of 3 rows and 3 columns:\\n\",arr)\n",
    "df = pd.DataFrame(arr)\n",
    "print(\"7. Panda Dataframe:\\n\",df)\n",
    "print(\"8. Dataframe data type:\\n\",df.dtypes)\n",
    "print(\"9. Dataframe index:\\n\",df.index)\n",
    "print(\"10. Dataframe columns:\\n\",df.columns)\n",
    "print(\"11. Dataframe shape:\\n\",df.shape)\n"
   ]
  },
  {
   "cell_type": "markdown",
   "id": "6210b3b4-fce8-4b40-8005-a55e251fe880",
   "metadata": {},
   "source": [
    "## 2.2 Reading Files"
   ]
  },
  {
   "cell_type": "code",
   "execution_count": 85,
   "id": "01754c93-2bc9-4819-8b30-65a0b7a2ba45",
   "metadata": {},
   "outputs": [
    {
     "data": {
      "text/html": [
       "<div>\n",
       "<style scoped>\n",
       "    .dataframe tbody tr th:only-of-type {\n",
       "        vertical-align: middle;\n",
       "    }\n",
       "\n",
       "    .dataframe tbody tr th {\n",
       "        vertical-align: top;\n",
       "    }\n",
       "\n",
       "    .dataframe thead th {\n",
       "        text-align: right;\n",
       "    }\n",
       "</style>\n",
       "<table border=\"1\" class=\"dataframe\">\n",
       "  <thead>\n",
       "    <tr style=\"text-align: right;\">\n",
       "      <th></th>\n",
       "      <th>gender</th>\n",
       "      <th>race/ethnicity</th>\n",
       "      <th>parental level of education</th>\n",
       "      <th>lunch</th>\n",
       "      <th>test preparation course</th>\n",
       "      <th>math score</th>\n",
       "      <th>reading score</th>\n",
       "      <th>writing score</th>\n",
       "    </tr>\n",
       "  </thead>\n",
       "  <tbody>\n",
       "    <tr>\n",
       "      <th>0</th>\n",
       "      <td>female</td>\n",
       "      <td>group B</td>\n",
       "      <td>bachelor's degree</td>\n",
       "      <td>standard</td>\n",
       "      <td>none</td>\n",
       "      <td>72</td>\n",
       "      <td>72</td>\n",
       "      <td>74</td>\n",
       "    </tr>\n",
       "    <tr>\n",
       "      <th>1</th>\n",
       "      <td>female</td>\n",
       "      <td>group C</td>\n",
       "      <td>some college</td>\n",
       "      <td>standard</td>\n",
       "      <td>completed</td>\n",
       "      <td>69</td>\n",
       "      <td>90</td>\n",
       "      <td>88</td>\n",
       "    </tr>\n",
       "    <tr>\n",
       "      <th>2</th>\n",
       "      <td>female</td>\n",
       "      <td>group B</td>\n",
       "      <td>master's degree</td>\n",
       "      <td>standard</td>\n",
       "      <td>none</td>\n",
       "      <td>90</td>\n",
       "      <td>95</td>\n",
       "      <td>93</td>\n",
       "    </tr>\n",
       "    <tr>\n",
       "      <th>3</th>\n",
       "      <td>male</td>\n",
       "      <td>group A</td>\n",
       "      <td>associate's degree</td>\n",
       "      <td>free/reduced</td>\n",
       "      <td>none</td>\n",
       "      <td>47</td>\n",
       "      <td>57</td>\n",
       "      <td>44</td>\n",
       "    </tr>\n",
       "    <tr>\n",
       "      <th>4</th>\n",
       "      <td>male</td>\n",
       "      <td>group C</td>\n",
       "      <td>some college</td>\n",
       "      <td>standard</td>\n",
       "      <td>none</td>\n",
       "      <td>76</td>\n",
       "      <td>78</td>\n",
       "      <td>75</td>\n",
       "    </tr>\n",
       "  </tbody>\n",
       "</table>\n",
       "</div>"
      ],
      "text/plain": [
       "   gender race/ethnicity parental level of education         lunch  \\\n",
       "0  female        group B           bachelor's degree      standard   \n",
       "1  female        group C                some college      standard   \n",
       "2  female        group B             master's degree      standard   \n",
       "3    male        group A          associate's degree  free/reduced   \n",
       "4    male        group C                some college      standard   \n",
       "\n",
       "  test preparation course  math score  reading score  writing score  \n",
       "0                    none          72             72             74  \n",
       "1               completed          69             90             88  \n",
       "2                    none          90             95             93  \n",
       "3                    none          47             57             44  \n",
       "4                    none          76             78             75  "
      ]
     },
     "execution_count": 85,
     "metadata": {},
     "output_type": "execute_result"
    }
   ],
   "source": [
    "df = pd.read_csv(\"StudentsPerformance.csv\")\n",
    "df.head()"
   ]
  },
  {
   "cell_type": "code",
   "execution_count": 62,
   "id": "bb2fbb44-e326-43fa-87cb-0d9ef4e5a720",
   "metadata": {},
   "outputs": [
    {
     "name": "stdout",
     "output_type": "stream",
     "text": [
      "1. Unique gender in dataframe:]\n",
      " ['female' 'male']\n",
      "\n",
      "2. Number of unique gender in dataframe:\n",
      " 2\n",
      "\n",
      "3. Count of each unique gender in dataframe:\n",
      " female    518\n",
      "male      482\n",
      "Name: gender, dtype: int64\n"
     ]
    }
   ],
   "source": [
    "gender = df['gender']\n",
    "print(\"1. Unique gender in dataframe:]\\n\",pd.unique(gender))\n",
    "print(\"\\n2. Number of unique gender in dataframe:\\n\",len(pd.unique(gender)))\n",
    "print(\"\\n3. Count of each unique gender in dataframe:\\n\",gender.value_counts())\n"
   ]
  },
  {
   "cell_type": "markdown",
   "id": "3aa10413-fd43-44fb-bda8-6263b39d572f",
   "metadata": {},
   "source": [
    "## 2.3 Indexing and Slicing\n"
   ]
  },
  {
   "cell_type": "code",
   "execution_count": 70,
   "id": "4d8844a9-3bf5-4896-924f-d06f98dc2dc4",
   "metadata": {},
   "outputs": [
    {
     "name": "stdout",
     "output_type": "stream",
     "text": [
      "1. Accessing row 1 and column race/ethnicity element:\n",
      " group C\n",
      "2. Accessing row 1 and column 1 element:\n",
      " group C\n"
     ]
    }
   ],
   "source": [
    "# df.loc[row_label, column_label]\n",
    "# df.iloc[row_indexer,column_indexer]\n",
    "\n",
    "print(\"1. Accessing row 1 and column race/ethnicity element:\\n\",df.loc[1 , 'race/ethnicity'])\n",
    "print(\"2. Accessing row 1 and column 1 element:\\n\",df.iloc[1 , 1])"
   ]
  },
  {
   "cell_type": "code",
   "execution_count": 93,
   "id": "55464cf7-e676-4b6b-ac42-5c5bfb17abd6",
   "metadata": {},
   "outputs": [
    {
     "data": {
      "text/plain": [
       "0      female\n",
       "1      female\n",
       "2      female\n",
       "3        male\n",
       "4        male\n",
       "        ...  \n",
       "995    female\n",
       "996      male\n",
       "997    female\n",
       "998    female\n",
       "999    female\n",
       "Name: gender, Length: 1000, dtype: object"
      ]
     },
     "execution_count": 93,
     "metadata": {},
     "output_type": "execute_result"
    }
   ],
   "source": [
    "# Get data from all rows of gender column\n",
    "\n",
    "df.loc[:,'gender']"
   ]
  },
  {
   "cell_type": "code",
   "execution_count": 92,
   "id": "4af3aae9-4699-4493-801a-643fb70ae6d2",
   "metadata": {},
   "outputs": [
    {
     "data": {
      "text/html": [
       "<div>\n",
       "<style scoped>\n",
       "    .dataframe tbody tr th:only-of-type {\n",
       "        vertical-align: middle;\n",
       "    }\n",
       "\n",
       "    .dataframe tbody tr th {\n",
       "        vertical-align: top;\n",
       "    }\n",
       "\n",
       "    .dataframe thead th {\n",
       "        text-align: right;\n",
       "    }\n",
       "</style>\n",
       "<table border=\"1\" class=\"dataframe\">\n",
       "  <thead>\n",
       "    <tr style=\"text-align: right;\">\n",
       "      <th></th>\n",
       "      <th>gender</th>\n",
       "      <th>math score</th>\n",
       "    </tr>\n",
       "  </thead>\n",
       "  <tbody>\n",
       "    <tr>\n",
       "      <th>0</th>\n",
       "      <td>female</td>\n",
       "      <td>72</td>\n",
       "    </tr>\n",
       "    <tr>\n",
       "      <th>1</th>\n",
       "      <td>female</td>\n",
       "      <td>69</td>\n",
       "    </tr>\n",
       "    <tr>\n",
       "      <th>2</th>\n",
       "      <td>female</td>\n",
       "      <td>90</td>\n",
       "    </tr>\n",
       "    <tr>\n",
       "      <th>3</th>\n",
       "      <td>male</td>\n",
       "      <td>47</td>\n",
       "    </tr>\n",
       "    <tr>\n",
       "      <th>4</th>\n",
       "      <td>male</td>\n",
       "      <td>76</td>\n",
       "    </tr>\n",
       "    <tr>\n",
       "      <th>...</th>\n",
       "      <td>...</td>\n",
       "      <td>...</td>\n",
       "    </tr>\n",
       "    <tr>\n",
       "      <th>995</th>\n",
       "      <td>female</td>\n",
       "      <td>88</td>\n",
       "    </tr>\n",
       "    <tr>\n",
       "      <th>996</th>\n",
       "      <td>male</td>\n",
       "      <td>62</td>\n",
       "    </tr>\n",
       "    <tr>\n",
       "      <th>997</th>\n",
       "      <td>female</td>\n",
       "      <td>59</td>\n",
       "    </tr>\n",
       "    <tr>\n",
       "      <th>998</th>\n",
       "      <td>female</td>\n",
       "      <td>68</td>\n",
       "    </tr>\n",
       "    <tr>\n",
       "      <th>999</th>\n",
       "      <td>female</td>\n",
       "      <td>77</td>\n",
       "    </tr>\n",
       "  </tbody>\n",
       "</table>\n",
       "<p>1000 rows × 2 columns</p>\n",
       "</div>"
      ],
      "text/plain": [
       "     gender  math score\n",
       "0    female          72\n",
       "1    female          69\n",
       "2    female          90\n",
       "3      male          47\n",
       "4      male          76\n",
       "..      ...         ...\n",
       "995  female          88\n",
       "996    male          62\n",
       "997  female          59\n",
       "998  female          68\n",
       "999  female          77\n",
       "\n",
       "[1000 rows x 2 columns]"
      ]
     },
     "execution_count": 92,
     "metadata": {},
     "output_type": "execute_result"
    }
   ],
   "source": [
    "# Get data from all rows but multiple columns\n",
    "\n",
    "columnList=['gender','math score']\n",
    "df.loc[:,columnList]"
   ]
  },
  {
   "cell_type": "code",
   "execution_count": 95,
   "id": "1efb76e2-bf8a-4e9a-af95-f72fe850390d",
   "metadata": {},
   "outputs": [
    {
     "data": {
      "text/html": [
       "<div>\n",
       "<style scoped>\n",
       "    .dataframe tbody tr th:only-of-type {\n",
       "        vertical-align: middle;\n",
       "    }\n",
       "\n",
       "    .dataframe tbody tr th {\n",
       "        vertical-align: top;\n",
       "    }\n",
       "\n",
       "    .dataframe thead th {\n",
       "        text-align: right;\n",
       "    }\n",
       "</style>\n",
       "<table border=\"1\" class=\"dataframe\">\n",
       "  <thead>\n",
       "    <tr style=\"text-align: right;\">\n",
       "      <th></th>\n",
       "      <th>lunch</th>\n",
       "      <th>test preparation course</th>\n",
       "      <th>math score</th>\n",
       "      <th>reading score</th>\n",
       "    </tr>\n",
       "  </thead>\n",
       "  <tbody>\n",
       "    <tr>\n",
       "      <th>0</th>\n",
       "      <td>standard</td>\n",
       "      <td>none</td>\n",
       "      <td>72</td>\n",
       "      <td>72</td>\n",
       "    </tr>\n",
       "    <tr>\n",
       "      <th>1</th>\n",
       "      <td>standard</td>\n",
       "      <td>completed</td>\n",
       "      <td>69</td>\n",
       "      <td>90</td>\n",
       "    </tr>\n",
       "    <tr>\n",
       "      <th>2</th>\n",
       "      <td>standard</td>\n",
       "      <td>none</td>\n",
       "      <td>90</td>\n",
       "      <td>95</td>\n",
       "    </tr>\n",
       "    <tr>\n",
       "      <th>3</th>\n",
       "      <td>free/reduced</td>\n",
       "      <td>none</td>\n",
       "      <td>47</td>\n",
       "      <td>57</td>\n",
       "    </tr>\n",
       "  </tbody>\n",
       "</table>\n",
       "</div>"
      ],
      "text/plain": [
       "          lunch test preparation course  math score  reading score\n",
       "0      standard                    none          72             72\n",
       "1      standard               completed          69             90\n",
       "2      standard                    none          90             95\n",
       "3  free/reduced                    none          47             57"
      ]
     },
     "execution_count": 95,
     "metadata": {},
     "output_type": "execute_result"
    }
   ],
   "source": [
    "# Get data from row 0 to 4 excluding 4 & from column 3 to 7 excluding 7\n",
    "df.iloc[0:4,3:7]"
   ]
  },
  {
   "cell_type": "markdown",
   "id": "b066d5eb-b394-4585-bb54-98035e60f582",
   "metadata": {},
   "source": [
    "### 2.3.1 Boolean Indexing"
   ]
  },
  {
   "cell_type": "code",
   "execution_count": 99,
   "id": "f7cd1f90-81ee-40e5-8a27-dd5c40d93771",
   "metadata": {},
   "outputs": [
    {
     "name": "stdout",
     "output_type": "stream",
     "text": [
      "1. Dataframe with True and False value where True is for female gender only:\n",
      " 0       True\n",
      "1       True\n",
      "2       True\n",
      "3      False\n",
      "4      False\n",
      "       ...  \n",
      "995     True\n",
      "996    False\n",
      "997     True\n",
      "998     True\n",
      "999     True\n",
      "Name: gender, Length: 1000, dtype: bool\n",
      "\n",
      "\n",
      "2. Dataframe containing data for female gender only:\n",
      "      gender race/ethnicity parental level of education         lunch  \\\n",
      "0    female        group B           bachelor's degree      standard   \n",
      "1    female        group C                some college      standard   \n",
      "2    female        group B             master's degree      standard   \n",
      "5    female        group B          associate's degree      standard   \n",
      "6    female        group B                some college      standard   \n",
      "..      ...            ...                         ...           ...   \n",
      "993  female        group D           bachelor's degree  free/reduced   \n",
      "995  female        group E             master's degree      standard   \n",
      "997  female        group C                 high school  free/reduced   \n",
      "998  female        group D                some college      standard   \n",
      "999  female        group D                some college  free/reduced   \n",
      "\n",
      "    test preparation course  math score  reading score  writing score  \n",
      "0                      none          72             72             74  \n",
      "1                 completed          69             90             88  \n",
      "2                      none          90             95             93  \n",
      "5                      none          71             83             78  \n",
      "6                 completed          88             95             92  \n",
      "..                      ...         ...            ...            ...  \n",
      "993                    none          62             72             74  \n",
      "995               completed          88             99             95  \n",
      "997               completed          59             71             65  \n",
      "998               completed          68             78             77  \n",
      "999                    none          77             86             86  \n",
      "\n",
      "[518 rows x 8 columns]\n"
     ]
    }
   ],
   "source": [
    "df_gender_female = df['gender']=='female'\n",
    "print(\"1. Dataframe with True and False value where True is for female gender only:\\n\",df_gender_female)\n",
    "print(\"\\n\\n2. Dataframe containing data for female gender only:\\n\",df.loc[df_gender_female])"
   ]
  },
  {
   "cell_type": "code",
   "execution_count": 90,
   "id": "7b1ed5f1-b071-406d-829b-3c5e464161ef",
   "metadata": {},
   "outputs": [
    {
     "data": {
      "text/html": [
       "<div>\n",
       "<style scoped>\n",
       "    .dataframe tbody tr th:only-of-type {\n",
       "        vertical-align: middle;\n",
       "    }\n",
       "\n",
       "    .dataframe tbody tr th {\n",
       "        vertical-align: top;\n",
       "    }\n",
       "\n",
       "    .dataframe thead th {\n",
       "        text-align: right;\n",
       "    }\n",
       "</style>\n",
       "<table border=\"1\" class=\"dataframe\">\n",
       "  <thead>\n",
       "    <tr style=\"text-align: right;\">\n",
       "      <th></th>\n",
       "      <th>gender</th>\n",
       "      <th>race/ethnicity</th>\n",
       "      <th>parental level of education</th>\n",
       "      <th>lunch</th>\n",
       "      <th>test preparation course</th>\n",
       "      <th>math score</th>\n",
       "      <th>reading score</th>\n",
       "      <th>writing score</th>\n",
       "    </tr>\n",
       "  </thead>\n",
       "  <tbody>\n",
       "    <tr>\n",
       "      <th>0</th>\n",
       "      <td>female</td>\n",
       "      <td>group B</td>\n",
       "      <td>bachelor's degree</td>\n",
       "      <td>standard</td>\n",
       "      <td>none</td>\n",
       "      <td>72</td>\n",
       "      <td>72</td>\n",
       "      <td>74</td>\n",
       "    </tr>\n",
       "    <tr>\n",
       "      <th>1</th>\n",
       "      <td>female</td>\n",
       "      <td>group C</td>\n",
       "      <td>some college</td>\n",
       "      <td>standard</td>\n",
       "      <td>completed</td>\n",
       "      <td>69</td>\n",
       "      <td>90</td>\n",
       "      <td>88</td>\n",
       "    </tr>\n",
       "    <tr>\n",
       "      <th>2</th>\n",
       "      <td>female</td>\n",
       "      <td>group B</td>\n",
       "      <td>master's degree</td>\n",
       "      <td>standard</td>\n",
       "      <td>none</td>\n",
       "      <td>90</td>\n",
       "      <td>95</td>\n",
       "      <td>93</td>\n",
       "    </tr>\n",
       "    <tr>\n",
       "      <th>3</th>\n",
       "      <td>male</td>\n",
       "      <td>group A</td>\n",
       "      <td>associate's degree</td>\n",
       "      <td>free/reduced</td>\n",
       "      <td>none</td>\n",
       "      <td>47</td>\n",
       "      <td>57</td>\n",
       "      <td>44</td>\n",
       "    </tr>\n",
       "    <tr>\n",
       "      <th>4</th>\n",
       "      <td>male</td>\n",
       "      <td>group C</td>\n",
       "      <td>some college</td>\n",
       "      <td>standard</td>\n",
       "      <td>none</td>\n",
       "      <td>76</td>\n",
       "      <td>78</td>\n",
       "      <td>75</td>\n",
       "    </tr>\n",
       "    <tr>\n",
       "      <th>...</th>\n",
       "      <td>...</td>\n",
       "      <td>...</td>\n",
       "      <td>...</td>\n",
       "      <td>...</td>\n",
       "      <td>...</td>\n",
       "      <td>...</td>\n",
       "      <td>...</td>\n",
       "      <td>...</td>\n",
       "    </tr>\n",
       "    <tr>\n",
       "      <th>995</th>\n",
       "      <td>female</td>\n",
       "      <td>group E</td>\n",
       "      <td>master's degree</td>\n",
       "      <td>standard</td>\n",
       "      <td>completed</td>\n",
       "      <td>88</td>\n",
       "      <td>99</td>\n",
       "      <td>95</td>\n",
       "    </tr>\n",
       "    <tr>\n",
       "      <th>996</th>\n",
       "      <td>male</td>\n",
       "      <td>group C</td>\n",
       "      <td>high school</td>\n",
       "      <td>free/reduced</td>\n",
       "      <td>none</td>\n",
       "      <td>62</td>\n",
       "      <td>55</td>\n",
       "      <td>55</td>\n",
       "    </tr>\n",
       "    <tr>\n",
       "      <th>997</th>\n",
       "      <td>female</td>\n",
       "      <td>group C</td>\n",
       "      <td>high school</td>\n",
       "      <td>free/reduced</td>\n",
       "      <td>completed</td>\n",
       "      <td>59</td>\n",
       "      <td>71</td>\n",
       "      <td>65</td>\n",
       "    </tr>\n",
       "    <tr>\n",
       "      <th>998</th>\n",
       "      <td>female</td>\n",
       "      <td>group D</td>\n",
       "      <td>some college</td>\n",
       "      <td>standard</td>\n",
       "      <td>completed</td>\n",
       "      <td>68</td>\n",
       "      <td>78</td>\n",
       "      <td>77</td>\n",
       "    </tr>\n",
       "    <tr>\n",
       "      <th>999</th>\n",
       "      <td>female</td>\n",
       "      <td>group D</td>\n",
       "      <td>some college</td>\n",
       "      <td>free/reduced</td>\n",
       "      <td>none</td>\n",
       "      <td>77</td>\n",
       "      <td>86</td>\n",
       "      <td>86</td>\n",
       "    </tr>\n",
       "  </tbody>\n",
       "</table>\n",
       "<p>939 rows × 8 columns</p>\n",
       "</div>"
      ],
      "text/plain": [
       "     gender race/ethnicity parental level of education         lunch  \\\n",
       "0    female        group B           bachelor's degree      standard   \n",
       "1    female        group C                some college      standard   \n",
       "2    female        group B             master's degree      standard   \n",
       "3      male        group A          associate's degree  free/reduced   \n",
       "4      male        group C                some college      standard   \n",
       "..      ...            ...                         ...           ...   \n",
       "995  female        group E             master's degree      standard   \n",
       "996    male        group C                 high school  free/reduced   \n",
       "997  female        group C                 high school  free/reduced   \n",
       "998  female        group D                some college      standard   \n",
       "999  female        group D                some college  free/reduced   \n",
       "\n",
       "    test preparation course  math score  reading score  writing score  \n",
       "0                      none          72             72             74  \n",
       "1                 completed          69             90             88  \n",
       "2                      none          90             95             93  \n",
       "3                      none          47             57             44  \n",
       "4                      none          76             78             75  \n",
       "..                      ...         ...            ...            ...  \n",
       "995               completed          88             99             95  \n",
       "996                    none          62             55             55  \n",
       "997               completed          59             71             65  \n",
       "998               completed          68             78             77  \n",
       "999                    none          77             86             86  \n",
       "\n",
       "[939 rows x 8 columns]"
      ]
     },
     "execution_count": 90,
     "metadata": {},
     "output_type": "execute_result"
    }
   ],
   "source": [
    "df_pass_students = df.loc[(df['math score'].astype(int)>40)&(df['reading score'].astype(int)>40)&(df['writing score'].astype(int)>40)]\n",
    "df_pass_students"
   ]
  },
  {
   "cell_type": "markdown",
   "id": "7d7ca31a-708e-4361-9b79-ad5b5ece6cd9",
   "metadata": {},
   "source": [
    "## 2.4 Sorting, Min, Max, Median, Sum, Mean"
   ]
  },
  {
   "cell_type": "code",
   "execution_count": 75,
   "id": "e3b8c2ed-bf15-410e-a6f0-dbf3c017b8a7",
   "metadata": {},
   "outputs": [
    {
     "data": {
      "text/plain": [
       "59       0\n",
       "980      8\n",
       "17      18\n",
       "787     19\n",
       "145     22\n",
       "      ... \n",
       "625    100\n",
       "623    100\n",
       "451    100\n",
       "962    100\n",
       "149    100\n",
       "Name: math score, Length: 1000, dtype: int64"
      ]
     },
     "execution_count": 75,
     "metadata": {},
     "output_type": "execute_result"
    }
   ],
   "source": [
    "df['math score'].sort_values()"
   ]
  },
  {
   "cell_type": "code",
   "execution_count": 72,
   "id": "1cafe86b-87eb-4935-9411-cd51f9beed1b",
   "metadata": {},
   "outputs": [
    {
     "name": "stdout",
     "output_type": "stream",
     "text": [
      "Math maximum score:\n",
      " 100\n",
      "Math mimimum score:\n",
      " 0\n",
      "Total math score:\n",
      " 66089\n",
      "Math mean score:\n",
      " 66.089\n",
      "Math median score:\n",
      " 66.0\n"
     ]
    }
   ],
   "source": [
    "print(\"1. Math maximum score:\\n\",df['math score'].max())\n",
    "print(\"2. Math mimimum score:\\n\",df['math score'].min())\n",
    "print(\"3. Total math score:\\n\",df['math score'].sum())\n",
    "print(\"4. Math mean score:\\n\",df['math score'].mean())\n",
    "print(\"5. Math median score:\\n\",df['math score'].median())"
   ]
  },
  {
   "cell_type": "markdown",
   "id": "553916e4-ae53-43ac-962b-75724f572496",
   "metadata": {},
   "source": [
    "## 2.5 Grouping"
   ]
  },
  {
   "cell_type": "code",
   "execution_count": 88,
   "id": "8101a2a9-6ee7-4654-b532-b057e3c249f5",
   "metadata": {},
   "outputs": [
    {
     "name": "stdout",
     "output_type": "stream",
     "text": [
      "\n",
      "\n",
      "Level of parent education: associate's degree\n",
      "Minimum math score: 26\n",
      "Maximum math score: 100\n",
      "\n",
      "\n",
      "Level of parent education: bachelor's degree\n",
      "Minimum math score: 29\n",
      "Maximum math score: 100\n",
      "\n",
      "\n",
      "Level of parent education: high school\n",
      "Minimum math score: 8\n",
      "Maximum math score: 99\n",
      "\n",
      "\n",
      "Level of parent education: master's degree\n",
      "Minimum math score: 40\n",
      "Maximum math score: 95\n",
      "\n",
      "\n",
      "Level of parent education: some college\n",
      "Minimum math score: 19\n",
      "Maximum math score: 100\n",
      "\n",
      "\n",
      "Level of parent education: some high school\n",
      "Minimum math score: 0\n",
      "Maximum math score: 97\n"
     ]
    }
   ],
   "source": [
    "parental_level_group = df.groupby('parental level of education')\n",
    "for parental_education, df_group in parental_level_group:\n",
    "    print(\"\\n\")\n",
    "    print(\"Level of parent education:\",parental_education)\n",
    "    print(\"Minimum math score:\",df_group['math score'].min())\n",
    "    print(\"Maximum math score:\",df_group['math score'].max())\n",
    "    "
   ]
  },
  {
   "cell_type": "markdown",
   "id": "6f14ce70-f609-41d8-955b-571ad70e95ad",
   "metadata": {},
   "source": [
    "## 2.6 Saving files"
   ]
  },
  {
   "cell_type": "code",
   "execution_count": 100,
   "id": "9a643e33-1244-4847-85ba-3e572fca0ce5",
   "metadata": {},
   "outputs": [],
   "source": [
    "df_pass_students.to_csv('passedStudents.csv')"
   ]
  },
  {
   "cell_type": "markdown",
   "id": "fd6ecd4d-51cc-4bd4-b589-19c1c0b3d048",
   "metadata": {},
   "source": [
    "## 2.7 Example\n",
    "\n",
    "Let's find out female students whose parental level of education is master's degree and has reading score greater than 80"
   ]
  },
  {
   "cell_type": "markdown",
   "id": "91988c98-797b-423e-b05c-508e88821568",
   "metadata": {},
   "source": [
    "# 3. Matplotlib"
   ]
  },
  {
   "cell_type": "markdown",
   "id": "5703212d-1d01-462a-8208-cbff0c5582bd",
   "metadata": {},
   "source": [
    ". Hierarchy : Figure-Axes-Axis-Ticks"
   ]
  },
  {
   "cell_type": "markdown",
   "id": "866dc0d4-d838-4844-bdce-69cd38ac9af9",
   "metadata": {},
   "source": [
    "## 3.1 Single Plot"
   ]
  },
  {
   "cell_type": "code",
   "execution_count": 31,
   "id": "7ffede0e-eb90-4e07-b225-ce35fe87978e",
   "metadata": {},
   "outputs": [
    {
     "data": {
      "text/plain": [
       "<matplotlib.legend.Legend at 0x7fe7889c3c40>"
      ]
     },
     "execution_count": 31,
     "metadata": {},
     "output_type": "execute_result"
    },
    {
     "data": {
      "image/png": "[encoded data removed]",
      "text/plain": [
       "<Figure size 640x480 with 1 Axes>"
      ]
     },
     "metadata": {},
     "output_type": "display_data"
    }
   ],
   "source": [
    "import matplotlib.pyplot as plt\n",
    "\n",
    "x = [1,2,3,4]\n",
    "y = [2,4,6,8]\n",
    "\n",
    "# x as X axis and y as Y axis\n",
    "plt.plot(x,y,c='blue',label='Line')\n",
    "plt.xlabel('X label',fontsize =15, c ='red')\n",
    "plt.ylabel('Y label',fontsize =15, c ='Blue')\n",
    "plt.tick_params(axis='x',color='red',labelsize='large',labelcolor='blue')\n",
    "plt.tick_params(axis='y',color='red',labelsize='large',labelcolor='red')\n",
    "plt.title(\"This is Single Plot\", {'fontsize':20,'color':'green'})\n",
    "plt.legend()"
   ]
  },
  {
   "cell_type": "markdown",
   "id": "6c66c7d7-1991-4774-b022-8f1ce94561ea",
   "metadata": {},
   "source": [
    "## 3.2 Multiple Plot"
   ]
  },
  {
   "cell_type": "code",
   "execution_count": 32,
   "id": "247ac261-d502-4e7d-a564-5246e9b0c94d",
   "metadata": {},
   "outputs": [
    {
     "data": {
      "text/plain": [
       "<matplotlib.legend.Legend at 0x7fe7889a3f10>"
      ]
     },
     "execution_count": 32,
     "metadata": {},
     "output_type": "execute_result"
    },
    {
     "data": {
      "image/png": "[encoded data removed]",
      "text/plain": [
       "<Figure size 640x480 with 1 Axes>"
      ]
     },
     "metadata": {},
     "output_type": "display_data"
    }
   ],
   "source": [
    "## Adding Multiple Plot\n",
    "\n",
    "import numpy as np\n",
    "\n",
    "a =[2,4,6,8]\n",
    "b = np.sqrt(a)\n",
    "plt.plot(x,y,c='blue',label='Line 1', linestyle=\":\", marker='o')\n",
    "plt.plot(a,b,c='red',label='Line 2',linestyle=\"--\",linewidth=5, marker='d', markersize=8)\n",
    "plt.title(\"This is Multiple Plot\", {'fontsize':20,'color':'green'})\n",
    "plt.legend()"
   ]
  },
  {
   "cell_type": "markdown",
   "id": "b69425f9-0e6a-4b45-9a5c-12be88bb3acb",
   "metadata": {},
   "source": [
    "## 3.3  Figure\n",
    "Figure is a area where plots are drawn"
   ]
  },
  {
   "cell_type": "code",
   "execution_count": 36,
   "id": "95403521-1eb6-4ecb-a53c-b7f1d02d1964",
   "metadata": {},
   "outputs": [
    {
     "data": {
      "text/plain": [
       "[<matplotlib.lines.Line2D at 0x7fe7887fc700>]"
      ]
     },
     "execution_count": 36,
     "metadata": {},
     "output_type": "execute_result"
    },
    {
     "data": {
      "image/png": "[encoded data removed]",
      "text/plain": [
       "<Figure size 640x480 with 2 Axes>"
      ]
     },
     "metadata": {},
     "output_type": "display_data"
    }
   ],
   "source": [
    "import numpy as np \n",
    "\n",
    "a = [2,4,6,8]\n",
    "b =[4,16,36,64]\n",
    "x = np.arange(0,150,2)\n",
    "y = np.sin(np.radians(x))\n",
    "fig = plt.figure()\n",
    "ax_1 = fig.add_axes([0,0,1,1])\n",
    "ax_2 = fig.add_axes([1.5,0,1,1])\n",
    "ax_1.set_xlabel('X label',fontsize =15, c ='red')\n",
    "ax_1.set_ylabel('Y label',fontsize =15, c ='Blue')\n",
    "ax_1.plot(a,b)\n",
    "ax_2.plot(x,y)\n"
   ]
  },
  {
   "cell_type": "markdown",
   "id": "e0b917db-5eaf-432b-a8fe-74f7f58d7f0b",
   "metadata": {},
   "source": [
    "## 3.4 Figure Subplot"
   ]
  },
  {
   "cell_type": "code",
   "execution_count": 41,
   "id": "06603487-521b-495f-8771-d1878027c447",
   "metadata": {},
   "outputs": [
    {
     "data": {
      "image/png": "[encoded data removed]",
      "text/plain": [
       "<Figure size 800x800 with 6 Axes>"
      ]
     },
     "metadata": {},
     "output_type": "display_data"
    }
   ],
   "source": [
    "fig = plt.figure(figsize=(8,8))\n",
    "\n",
    "ax_1 = fig.add_subplot(321) # 3 by 2 grid at position 1\n",
    "ax_2 = fig.add_subplot(322)\n",
    "ax_3 = fig.add_subplot(323)\n",
    "ax_4 = fig.add_subplot(324)\n",
    "ax_5 = fig.add_subplot(325)\n",
    "ax_6 = fig.add_subplot(326)\n",
    "ax_1.set_title(\"This is axis 1\")\n",
    "ax_2.set_title(\"This is axis 2\")\n",
    "plt.show()\n"
   ]
  },
  {
   "cell_type": "markdown",
   "id": "c23a2360-8c1b-43e4-9173-176927b8a93d",
   "metadata": {},
   "source": [
    "## 3.5 Plotting data fron csv file"
   ]
  },
  {
   "cell_type": "code",
   "execution_count": 108,
   "id": "b853a667-8840-46ae-aa86-b5311eec0327",
   "metadata": {},
   "outputs": [
    {
     "data": {
      "text/plain": [
       "Text(0.5, 0, 'Writing Score')"
      ]
     },
     "execution_count": 108,
     "metadata": {},
     "output_type": "execute_result"
    },
    {
     "data": {
      "image/png": "[encoded data removed]",
      "text/plain": [
       "<Figure size 2000x2000 with 3 Axes>"
      ]
     },
     "metadata": {},
     "output_type": "display_data"
    }
   ],
   "source": [
    "data = pd.read_csv(\"StudentsPerformance.csv\")\n",
    "\n",
    "gender = data[\"gender\"]\n",
    "ethnicity = data[\"race/ethnicity\"]\n",
    "math = data[\"math score\"]\n",
    "parent_education = data[\"parental level of education\"]\n",
    "lunch = data[\"lunch\"]\n",
    "test = data[\"test preparation course\"]\n",
    "reading = data[\"reading score\"]\n",
    "writing = data[\"writing score\"]\n",
    "\n",
    "\n",
    "fig = plt.figure(figsize=(20,20))\n",
    "\n",
    "ax_1 = fig.add_subplot(331)\n",
    "ax_2 = fig.add_subplot(333)\n",
    "ax_3 = fig.add_subplot(335)\n",
    "\n",
    "\n",
    "\n",
    "ax_1.hist(math,edgecolor='white')\n",
    "ax_1.set_ylabel(\"No. of students\")\n",
    "ax_1.set_xlabel(\"Math Score\")\n",
    "\n",
    "ax_2.hist(reading)\n",
    "ax_2.set_ylabel(\"Number of students\")\n",
    "ax_2.set_xlabel(\"Reading Score\")\n",
    "\n",
    "ax_3.hist(writing)\n",
    "ax_3.set_ylabel(\"Number of students\")\n",
    "ax_3.set_xlabel(\"Writing Score\")"
   ]
  },
  {
   "cell_type": "markdown",
   "id": "9b0803a9-080b-46f3-aff0-ce7b44d6a530",
   "metadata": {},
   "source": [
    "## 3.6 Example\n",
    "\n",
    "Create a histogram plot to visualize the distribution of gender and race/ethnicity. Use subplot of 3X3 grid"
   ]
  },
  {
   "cell_type": "markdown",
   "id": "dd4878f7-a823-4ec4-b323-7036597efb06",
   "metadata": {},
   "source": [
    "# 4. Seaborn"
   ]
  },
  {
   "cell_type": "markdown",
   "id": "65e741d7-6472-489d-99f1-e5bb07bf63bd",
   "metadata": {},
   "source": [
    "Seaborn\n",
    "- Library based on Matplotlib\n",
    "- Wrapper of matplotlib\n",
    "\n",
    "Advantages\n",
    "- Less code\n",
    "- Make common-used plots prettier\n",
    "\n",
    "Disadvantage\n",
    "- Does not have as wide a collection as matplotlib\n",
    "- For dealing with categorical data and statistical data\n",
    "\n",
    "For more seaborn plotting functions: https://seaborn.pydata.org/tutorial/function_overview.html"
   ]
  },
  {
   "cell_type": "code",
   "execution_count": 47,
   "id": "61664b4d-0a8d-4c17-9a22-b414823dddcb",
   "metadata": {},
   "outputs": [
    {
     "data": {
      "text/plain": [
       "Text(0.5, 1.0, 'Graph')"
      ]
     },
     "execution_count": 47,
     "metadata": {},
     "output_type": "execute_result"
    },
    {
     "data": {
      "image/png": "[encoded data removed]",
      "text/plain": [
       "<Figure size 640x480 with 1 Axes>"
      ]
     },
     "metadata": {},
     "output_type": "display_data"
    }
   ],
   "source": [
    "#!pip install --user seaborn\n",
    "import numpy as np\n",
    "import seaborn as sns\n",
    "\n",
    "a = [1,2,3,4]\n",
    "b = [2,4,6,8]\n",
    "x =[2,4,6,8]\n",
    "y = np.sqrt(x)\n",
    "p = sns.lineplot(x=a,y=b, marker='o')\n",
    "p.set_xlabel(\"X-Axis\",{'fontsize':20,'c': 'red'})\n",
    "p.set_ylabel(\"Y-axis\",{'fontsize':20,'c': 'blue'})\n",
    "p.set_title(\"Graph\", {'fontsize':20}, pad=20)"
   ]
  },
  {
   "cell_type": "code",
   "execution_count": 2,
   "id": "e8412b2e-b737-444e-8569-b8d63f944953",
   "metadata": {},
   "outputs": [
    {
     "data": {
      "text/plain": [
       "<Axes: xlabel='gender', ylabel='Count'>"
      ]
     },
     "execution_count": 2,
     "metadata": {},
     "output_type": "execute_result"
    },
    {
     "data": {
      "image/png": "[encoded data removed]",
      "text/plain": [
       "<Figure size 640x480 with 1 Axes>"
      ]
     },
     "metadata": {},
     "output_type": "display_data"
    }
   ],
   "source": [
    "import pandas as pd\n",
    "import seaborn as sns\n",
    "\n",
    "data = pd.read_csv(\"StudentsPerformance.csv\")\n",
    "sns.histplot(data, x=data[\"gender\"],edgecolor='white')"
   ]
  },
  {
   "cell_type": "code",
   "execution_count": 3,
   "id": "63227483-da8b-47ef-9fed-fd2ff07388e4",
   "metadata": {},
   "outputs": [
    {
     "data": {
      "text/plain": [
       "<Axes: ylabel='Count'>"
      ]
     },
     "execution_count": 3,
     "metadata": {},
     "output_type": "execute_result"
    },
    {
     "data": {
      "image/png": "[encoded data removed]",
      "text/plain": [
       "<Figure size 640x480 with 1 Axes>"
      ]
     },
     "metadata": {},
     "output_type": "display_data"
    }
   ],
   "source": [
    "sns.histplot(data,bins=10)"
   ]
  },
  {
   "cell_type": "code",
   "execution_count": 4,
   "id": "94cfa6cb-7fde-4049-bdb2-41314884a229",
   "metadata": {},
   "outputs": [
    {
     "data": {
      "text/plain": [
       "<Axes: ylabel='Count'>"
      ]
     },
     "execution_count": 4,
     "metadata": {},
     "output_type": "execute_result"
    },
    {
     "data": {
      "image/png": "[encoded data removed]",
      "text/plain": [
       "<Figure size 640x480 with 1 Axes>"
      ]
     },
     "metadata": {},
     "output_type": "display_data"
    }
   ],
   "source": [
    "sns.histplot(data,bins=20)"
   ]
  },
  {
   "cell_type": "markdown",
   "id": "08fc66a0-1966-4406-8241-dafe0b030b7c",
   "metadata": {},
   "source": [
    "## Example:\n",
    "\n",
    "Create a histogram plot to visualize the  number of race/ethnicity from data StudentsPerformance.csv "
   ]
  },
  {
   "cell_type": "code",
   "execution_count": null,
   "id": "dd4aa975-4955-444d-b35e-c2258667caed",
   "metadata": {},
   "outputs": [],
   "source": []
  }
 ],
 "metadata": {
  "kernelspec": {
   "display_name": "Python 3 (ipykernel)",
   "language": "python",
   "name": "python3"
  },
  "language_info": {
   "codemirror_mode": {
    "name": "ipython",
    "version": 3
   },
   "file_extension": ".py",
   "mimetype": "text/x-python",
   "name": "python",
   "nbconvert_exporter": "python",
   "pygments_lexer": "ipython3",
   "version": "3.9.9"
  }
 },
 "nbformat": 4,
 "nbformat_minor": 5
}
